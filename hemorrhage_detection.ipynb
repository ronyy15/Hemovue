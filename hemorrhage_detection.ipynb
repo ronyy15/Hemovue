{
  "nbformat": 4,
  "nbformat_minor": 0,
  "metadata": {
    "colab": {
      "provenance": []
    },
    "kernelspec": {
      "name": "python3",
      "display_name": "Python 3"
    },
    "language_info": {
      "name": "python"
    }
  },
  "cells": [
    {
      "cell_type": "markdown",
      "source": [
        "Step 1: Load and Inspect Data\n",
        "\n"
      ],
      "metadata": {
        "id": "nJ84iNCrD2CA"
      }
    },
    {
      "cell_type": "code",
      "execution_count": null,
      "metadata": {
        "id": "rcTbP_a4C7XS"
      },
      "outputs": [],
      "source": [
        "# Import necessary libraries\n",
        "import pandas as pd\n",
        "import numpy as np\n",
        "from sklearn.model_selection import StratifiedKFold\n",
        "from sklearn.linear_model import LogisticRegression\n",
        "from sklearn.ensemble import RandomForestClassifier, GradientBoostingClassifier\n",
        "from sklearn.svm import SVC\n",
        "from sklearn.metrics import accuracy_score, log_loss\n",
        "from xgboost import XGBClassifier\n",
        "import matplotlib.pyplot as plt\n",
        "from tensorflow.keras.models import Sequential\n",
        "from tensorflow.keras.layers import Dense, Input\n",
        "from tensorflow.keras.optimizers import Adam\n",
        "from tensorflow.keras.callbacks import EarlyStopping\n",
        "import tensorflow as tf"
      ]
    },
    {
      "cell_type": "code",
      "source": [
        "# Load the datasets\n",
        "hemorrhage_data = pd.read_csv('hemorrhage_diagnosis.csv')\n",
        "demographics_data = pd.read_csv('patient_demographics.csv')\n",
        "\n",
        "# Display the first few rows of each dataset\n",
        "print(\"Hemorrhage Data:\")\n",
        "print(hemorrhage_data.head())\n",
        "print(\"\\nDemographics Data:\")\n",
        "print(demographics_data.head())"
      ],
      "metadata": {
        "id": "kwH7bawMDqwS",
        "colab": {
          "base_uri": "https://localhost:8080/"
        },
        "outputId": "f1e6b89b-e5ba-4ff0-81b8-8a09ffc0078e"
      },
      "execution_count": null,
      "outputs": [
        {
          "output_type": "stream",
          "name": "stdout",
          "text": [
            "Hemorrhage Data:\n",
            "   PatientNumber  SliceNumber  Intraventricular  Intraparenchymal  \\\n",
            "0             49            1                 0                 0   \n",
            "1             49            2                 0                 0   \n",
            "2             49            3                 0                 0   \n",
            "3             49            4                 0                 0   \n",
            "4             49            5                 0                 0   \n",
            "\n",
            "   Subarachnoid  Epidural  Subdural  No_Hemorrhage  Fracture_Yes_No  \n",
            "0             0         0         0              1                0  \n",
            "1             0         0         0              1                0  \n",
            "2             0         0         0              1                0  \n",
            "3             0         0         0              1                0  \n",
            "4             0         0         0              1                0  \n",
            "\n",
            "Demographics Data:\n",
            "   Patient Number  Age\\n(years)  Gender  Intraventricular  Intraparenchymal  \\\n",
            "0              49     35.000000    Male               NaN               1.0   \n",
            "1              50      0.583333  Female               NaN               1.0   \n",
            "2              51      5.000000    Male               NaN               1.0   \n",
            "3              52      8.000000    Male               NaN               NaN   \n",
            "4              53     44.000000    Male               NaN               1.0   \n",
            "\n",
            "   Subarachnoid  Epidural  Subdural  Fracture (Yes/No)  \\\n",
            "0           NaN       1.0       NaN                1.0   \n",
            "1           NaN       NaN       NaN                1.0   \n",
            "2           NaN       NaN       1.0                1.0   \n",
            "3           NaN       1.0       NaN                1.0   \n",
            "4           NaN       1.0       NaN                1.0   \n",
            "\n",
            "                   Condition on file Note  \n",
            "0  Intracranial HGE+ Extradural HGE   NaN  \n",
            "1                      Subdural HGE   NaN  \n",
            "2                     Extadural HGE   NaN  \n",
            "3                     Extadural HGE   NaN  \n",
            "4  Intracranial HGE+ Extradural HGE   NaN  \n"
          ]
        }
      ]
    },
    {
      "cell_type": "markdown",
      "source": [
        "Step 2: Preprocess Data"
      ],
      "metadata": {
        "id": "M1J_PD0YD4Ue"
      }
    },
    {
      "cell_type": "code",
      "source": [
        "# Standardize column names for merging\n",
        "demographics_data.rename(columns={'Patient Number': 'PatientNumber', 'Age\\n(years)': 'Age'}, inplace=True)\n",
        "\n",
        "# Merge datasets on 'PatientNumber'\n",
        "data = pd.merge(hemorrhage_data, demographics_data, on='PatientNumber', how='inner')\n",
        "\n",
        "# Drop unnecessary columns\n",
        "data = data.drop(columns=['SliceNumber'])\n",
        "\n",
        "# Fill missing values: categorical columns with mode, numerical with mean\n",
        "for column in data.columns:\n",
        "    if data[column].dtype == 'object':\n",
        "        data[column] = data[column].fillna(data[column].mode()[0])\n",
        "    else:\n",
        "        data[column] = data[column].fillna(data[column].mean())\n",
        "\n",
        "# Convert categorical variables to numeric\n",
        "data['Gender'] = data['Gender'].map({'Male': 1, 'Female': 0})\n",
        "data['Fracture (Yes/No)'] = data['Fracture (Yes/No)'].astype(int)\n",
        "\n",
        "# Check correlations with target variable, ignoring non-numeric columns\n",
        "numeric_data = data.select_dtypes(include=[np.number])  # Select only numeric columns\n",
        "correlations = numeric_data.corr()\n",
        "target_correlations = correlations['No_Hemorrhage'].sort_values(ascending=False)\n",
        "print(\"\\nFeature Correlations with Target:\\n\", target_correlations)\n",
        "\n",
        "# Drop features highly correlated with the target (correlation > 0.8)\n",
        "high_corr_features = target_correlations[target_correlations > 0.8].index.drop('No_Hemorrhage')\n",
        "data = data.drop(columns=high_corr_features)"
      ],
      "metadata": {
        "id": "igkTfoE4DxKD",
        "colab": {
          "base_uri": "https://localhost:8080/"
        },
        "outputId": "2bb07c7a-8802-4818-cdc7-ace0c5c9a059"
      },
      "execution_count": null,
      "outputs": [
        {
          "output_type": "stream",
          "name": "stdout",
          "text": [
            "\n",
            "Feature Correlations with Target:\n",
            " No_Hemorrhage         1.000000\n",
            "PatientNumber         0.247143\n",
            "Age                   0.081778\n",
            "Gender               -0.194336\n",
            "Subarachnoid_x       -0.223080\n",
            "Intraventricular_x   -0.257903\n",
            "Subdural_x           -0.396523\n",
            "Fracture_Yes_No      -0.430654\n",
            "Intraparenchymal_x   -0.454308\n",
            "Epidural_x           -0.714241\n",
            "Intraventricular_y         NaN\n",
            "Intraparenchymal_y         NaN\n",
            "Subarachnoid_y             NaN\n",
            "Epidural_y                 NaN\n",
            "Subdural_y                 NaN\n",
            "Fracture (Yes/No)          NaN\n",
            "Name: No_Hemorrhage, dtype: float64\n"
          ]
        }
      ]
    },
    {
      "cell_type": "markdown",
      "source": [
        "Step 3: Check Class Distribution and Correlations\n",
        "\n",
        "- Examine the class balance in No_Hemorrhage and identify highly correlated features to drop."
      ],
      "metadata": {
        "id": "smGlcVAardtU"
      }
    },
    {
      "source": [
        "# Step 1: Check for class imbalance\n",
        "class_distribution = data['No_Hemorrhage'].value_counts()\n",
        "print(\"Class Distribution:\\n\", class_distribution)\n",
        "\n",
        "# Step 2: Check correlations with target variable, ignoring non-numeric columns\n",
        "numeric_data = data.select_dtypes(include=[np.number])  # Select only numeric columns\n",
        "correlations = numeric_data.corr()\n",
        "target_correlations = correlations['No_Hemorrhage'].sort_values(ascending=False)\n",
        "print(\"\\nFeature Correlations with Target:\\n\", target_correlations)\n",
        "\n",
        "# Drop features that are highly correlated with the target (correlation > 0.8, for instance)\n",
        "high_corr_features = target_correlations[target_correlations > 0.8].index.drop('No_Hemorrhage')\n",
        "data = data.drop(columns=high_corr_features)"
      ],
      "cell_type": "code",
      "metadata": {
        "colab": {
          "base_uri": "https://localhost:8080/"
        },
        "id": "9FC9xf1bgqR5",
        "outputId": "2c76078c-ebd5-4bfa-f0a0-607d3c7b4b2a"
      },
      "execution_count": null,
      "outputs": [
        {
          "output_type": "stream",
          "name": "stdout",
          "text": [
            "Class Distribution:\n",
            " No_Hemorrhage\n",
            "1    2183\n",
            "0     318\n",
            "Name: count, dtype: int64\n",
            "\n",
            "Feature Correlations with Target:\n",
            " No_Hemorrhage         1.000000\n",
            "PatientNumber         0.247143\n",
            "Age                   0.081778\n",
            "Gender               -0.194336\n",
            "Subarachnoid_x       -0.223080\n",
            "Intraventricular_x   -0.257903\n",
            "Subdural_x           -0.396523\n",
            "Fracture_Yes_No      -0.430654\n",
            "Intraparenchymal_x   -0.454308\n",
            "Epidural_x           -0.714241\n",
            "Intraventricular_y         NaN\n",
            "Intraparenchymal_y         NaN\n",
            "Subarachnoid_y             NaN\n",
            "Epidural_y                 NaN\n",
            "Subdural_y                 NaN\n",
            "Fracture (Yes/No)          NaN\n",
            "Name: No_Hemorrhage, dtype: float64\n"
          ]
        }
      ]
    },
    {
      "cell_type": "code",
      "source": [
        "# Define features (X) and target (y)\n",
        "X = data.drop(columns=['No_Hemorrhage', 'PatientNumber', 'Condition on file', 'Note'])\n",
        "y = data['No_Hemorrhage']"
      ],
      "metadata": {
        "id": "ZMKMwcOWrQM3"
      },
      "execution_count": null,
      "outputs": []
    },
    {
      "cell_type": "markdown",
      "source": [
        "Step 4: Initialize Models with Regularization"
      ],
      "metadata": {
        "id": "a5rGRzolEPj5"
      }
    },
    {
      "cell_type": "code",
      "source": [
        "# Initialize models with regularized parameters\n",
        "models = {\n",
        "    'Logistic Regression': LogisticRegression(max_iter=1000, C=0.5),\n",
        "    'Random Forest': RandomForestClassifier(random_state=42, n_estimators=100, max_depth=5),\n",
        "    'Support Vector Machine': SVC(probability=True, C=0.5),\n",
        "    'Gradient Boosting': GradientBoostingClassifier(random_state=42, n_estimators=100, max_depth=3),\n",
        "    'XGBoost': XGBClassifier(eval_metric='logloss', random_state=42, n_estimators=100, max_depth=3)\n",
        "}\n",
        "\n",
        "# Define a function to create a neural network model\n",
        "def create_nn_model(input_dim):\n",
        "    model = Sequential([\n",
        "        Input(shape=(input_dim,)),\n",
        "        Dense(64, activation='relu'),\n",
        "        Dense(32, activation='relu'),\n",
        "        Dense(1, activation='sigmoid')\n",
        "    ])\n",
        "    model.compile(optimizer=Adam(learning_rate=0.001), loss='binary_crossentropy', metrics=['accuracy'])\n",
        "    return model"
      ],
      "metadata": {
        "id": "k5FIQBFjEHJs"
      },
      "execution_count": null,
      "outputs": []
    },
    {
      "cell_type": "markdown",
      "source": [
        "Step 5: Train and Evaluate Models with Cross-Validation"
      ],
      "metadata": {
        "id": "82zitxnpsBpE"
      }
    },
    {
      "cell_type": "code",
      "source": [
        "# Cross-validation setup\n",
        "kf = StratifiedKFold(n_splits=5, shuffle=True, random_state=42)\n",
        "metrics = {model_name: {'train_loss': [], 'val_loss': [], 'train_accuracy': [], 'val_accuracy': []}\n",
        "           for model_name in models.keys()}\n",
        "metrics['Neural Network'] = {'train_loss': [], 'val_loss': [], 'train_accuracy': [], 'val_accuracy': []}\n",
        "\n",
        "# Train and evaluate each model using cross-validation\n",
        "for model_name, model in models.items():\n",
        "    for train_index, val_index in kf.split(X, y):\n",
        "        X_train, X_val = X.iloc[train_index], X.iloc[val_index]\n",
        "        y_train, y_val = y.iloc[train_index], y.iloc[val_index]\n",
        "\n",
        "        # Fit model and make predictions\n",
        "        model.fit(X_train, y_train)\n",
        "        y_train_pred = model.predict(X_train)\n",
        "        y_val_pred = model.predict(X_val)\n",
        "\n",
        "        # Calculate accuracy\n",
        "        train_accuracy = accuracy_score(y_train, y_train_pred)\n",
        "        val_accuracy = accuracy_score(y_val, y_val_pred)\n",
        "\n",
        "        # Calculate log loss\n",
        "        y_train_prob = model.predict_proba(X_train)\n",
        "        y_val_prob = model.predict_proba(X_val)\n",
        "        train_loss = log_loss(y_train, y_train_prob)\n",
        "        val_loss = log_loss(y_val, y_val_prob)\n",
        "\n",
        "        # Store metrics\n",
        "        metrics[model_name]['train_accuracy'].append(train_accuracy)\n",
        "        metrics[model_name]['val_accuracy'].append(val_accuracy)\n",
        "        metrics[model_name]['train_loss'].append(train_loss)\n",
        "        metrics[model_name]['val_loss'].append(val_loss)\n",
        "\n",
        "# Train and evaluate the Neural Network separately\n",
        "input_dim = X.shape[1]\n",
        "for train_index, val_index in kf.split(X, y):\n",
        "    X_train, X_val = X.iloc[train_index], X.iloc[val_index]\n",
        "    y_train, y_val = y.iloc[train_index], y.iloc[val_index]\n",
        "\n",
        "    # Build and train the neural network model with early stopping\n",
        "    nn_model = create_nn_model(input_dim)\n",
        "    early_stopping = EarlyStopping(monitor='val_loss', patience=5, restore_best_weights=True)\n",
        "    nn_model.fit(X_train, y_train, epochs=50, batch_size=16, verbose=0, validation_data=(X_val, y_val),\n",
        "                 callbacks=[early_stopping])\n",
        "\n",
        "    # Evaluate on training and validation sets\n",
        "    train_loss, train_accuracy = nn_model.evaluate(X_train, y_train, verbose=0)\n",
        "    val_loss, val_accuracy = nn_model.evaluate(X_val, y_val, verbose=0)\n",
        "\n",
        "    # Store metrics\n",
        "    metrics['Neural Network']['train_accuracy'].append(train_accuracy)\n",
        "    metrics['Neural Network']['val_accuracy'].append(val_accuracy)\n",
        "    metrics['Neural Network']['train_loss'].append(train_loss)\n",
        "    metrics['Neural Network']['val_loss'].append(val_loss)"
      ],
      "metadata": {
        "id": "CaWKqlzxr_4_"
      },
      "execution_count": null,
      "outputs": []
    },
    {
      "cell_type": "markdown",
      "source": [
        "Step 6: Calculate and Display Average Metrics"
      ],
      "metadata": {
        "id": "lT9DV4DQsMYC"
      }
    },
    {
      "cell_type": "code",
      "source": [
        "# Calculate average metrics for each model\n",
        "average_metrics = {model_name: {metric: np.mean(scores) for metric, scores in metric_dict.items()}\n",
        "                   for model_name, metric_dict in metrics.items()}\n",
        "\n",
        "# Output metrics values for each model\n",
        "print(\"\\nModel Performance Metrics (Averaged over Cross-Validation):\")\n",
        "for model_name, metric_dict in average_metrics.items():\n",
        "    print(f\"\\n{model_name}:\")\n",
        "    for metric, score in metric_dict.items():\n",
        "        print(f\"  {metric}: {score:.4f}\")"
      ],
      "metadata": {
        "colab": {
          "base_uri": "https://localhost:8080/"
        },
        "id": "vPDivov_sLBE",
        "outputId": "2cb1ebe8-7c34-4b76-b036-9c14c5f67ad2"
      },
      "execution_count": null,
      "outputs": [
        {
          "output_type": "stream",
          "name": "stdout",
          "text": [
            "\n",
            "Model Performance Metrics (Averaged over Cross-Validation):\n",
            "\n",
            "Logistic Regression:\n",
            "  train_loss: 0.0459\n",
            "  val_loss: 0.0481\n",
            "  train_accuracy: 0.9931\n",
            "  val_accuracy: 0.9928\n",
            "\n",
            "Random Forest:\n",
            "  train_loss: 0.0669\n",
            "  val_loss: 0.0682\n",
            "  train_accuracy: 1.0000\n",
            "  val_accuracy: 1.0000\n",
            "\n",
            "Support Vector Machine:\n",
            "  train_loss: 0.0702\n",
            "  val_loss: 0.0776\n",
            "  train_accuracy: 0.8729\n",
            "  val_accuracy: 0.8729\n",
            "\n",
            "Gradient Boosting:\n",
            "  train_loss: 0.0013\n",
            "  val_loss: 0.0013\n",
            "  train_accuracy: 1.0000\n",
            "  val_accuracy: 1.0000\n",
            "\n",
            "XGBoost:\n",
            "  train_loss: 0.0051\n",
            "  val_loss: 0.0102\n",
            "  train_accuracy: 0.9996\n",
            "  val_accuracy: 0.9984\n",
            "\n",
            "Neural Network:\n",
            "  train_loss: 0.0000\n",
            "  val_loss: 0.0000\n",
            "  train_accuracy: 1.0000\n",
            "  val_accuracy: 1.0000\n"
          ]
        }
      ]
    },
    {
      "cell_type": "markdown",
      "source": [
        "Step 7: Plot Validation Accuracy across models"
      ],
      "metadata": {
        "id": "hJSDnX9ytvhY"
      }
    },
    {
      "cell_type": "code",
      "source": [
        "plt.figure(figsize=(16, 6))\n",
        "color = '#007594'  # Set the color for all bars\n",
        "\n",
        "for i, (model_name, metric_dict) in enumerate(average_metrics.items()):\n",
        "    plt.bar(model_name, metric_dict['val_accuracy'], color=color, alpha=0.7)\n",
        "    plt.text(i, metric_dict['val_accuracy'] + 0.001, f\"{metric_dict['val_accuracy']:.4f}\",\n",
        "             ha='center', va='bottom', fontsize=12)  # Add accuracy label above each bar\n",
        "\n",
        "# Enhancements for the plot\n",
        "plt.title('Model Comparison - Validation Accuracy', fontsize=16, pad=25)\n",
        "plt.xlabel('Model', fontsize=14)\n",
        "plt.ylabel('Validation Accuracy', fontsize=14)\n",
        "plt.ylim(0.85, 1)  # Set a narrower range for the y-axis to focus on the accuracy range\n",
        "plt.grid(axis='y', linestyle='--', alpha=0.7)  # Add grid lines for easier comparison\n",
        "\n",
        "plt.show()"
      ],
      "metadata": {
        "colab": {
          "base_uri": "https://localhost:8080/",
          "height": 300
        },
        "id": "0yNHypfIsSof",
        "outputId": "fe35e3b3-7ad5-4e5e-e52e-d9c071874689"
      },
      "execution_count": null,
      "outputs": [
        {
          "output_type": "display_data",
          "data": {
            "text/plain": [
              "<Figure size 1600x600 with 1 Axes>"
            ],
            "image/png": "[encoded data removed]"
          },
          "metadata": {}
        }
      ]
    },
    {
      "cell_type": "code",
      "source": [
        "#Feature Correlation Matrix\n",
        "import pandas as pd\n",
        "import seaborn as sns\n",
        "import matplotlib.pyplot as plt\n",
        "correlation_matrix = df.corr(numeric_only=True)\n",
        "plt.figure(figsize=(8, 6))\n",
        "sns.heatmap(correlation_matrix, annot=True, cmap='coolwarm', fmt='.2f', linewidths=0.5)\n",
        "plt.title('Feature Correlation Matrix')\n",
        "plt.show()"
      ],
      "metadata": {
        "colab": {
          "base_uri": "https://localhost:8080/",
          "height": 545
        },
        "id": "keqpqV8kEZGJ",
        "outputId": "f80dad48-de89-49c8-a464-90040cf94f24"
      },
      "execution_count": null,
      "outputs": [
        {
          "output_type": "display_data",
          "data": {
            "text/plain": [
              "<Figure size 800x600 with 2 Axes>"
            ],
            "image/png": "[encoded data removed]"
          },
          "metadata": {}
        }
      ]
    },
    {
      "cell_type": "code",
      "source": [
        "# Install necessary library for formatted table display\n",
        "!pip install tabulate --quiet\n",
        "\n",
        "import pandas as pd\n",
        "from tabulate import tabulate\n",
        "\n",
        "# Define the data for the table\n",
        "data = {\n",
        "    \"Model\": [\"Logistic Regression\", \"Random Forest\", \"SVM\", \"Gradient Boosting\", \"XGBoost\", \"Neural Network\"],\n",
        "    \"Accuracy (%)\": [99.28, 100.00, 87.29, 100.00, 99.84, 100.00],\n",
        "    \"Log Loss\": [0.0481, 0.0682, 0.0778, 0.0013, 0.0102, 0.0369]\n",
        "}\n",
        "\n",
        "# Create a pandas DataFrame\n",
        "df = pd.DataFrame(data)\n",
        "\n",
        "# Display the table in a formatted grid style\n",
        "from IPython.display import display\n",
        "display(df.style.set_table_styles(\n",
        "    [{'selector': 'th', 'props': [('text-align', 'center')]},\n",
        "     {'selector': 'td', 'props': [('text-align', 'center')]}]\n",
        ").set_caption(\"Model Performance Comparison\"))\n"
      ],
      "metadata": {
        "colab": {
          "base_uri": "https://localhost:8080/",
          "height": 255
        },
        "id": "s4d1L8EVH7Pr",
        "outputId": "88cf58ea-7829-460f-8a94-cff91b8405e6"
      },
      "execution_count": null,
      "outputs": [
        {
          "output_type": "display_data",
          "data": {
            "text/plain": [
              "<pandas.io.formats.style.Styler at 0x7e0206d94850>"
            ],
            "text/html": [
              "<style type=\"text/css\">\n",
              "#T_f024e th {\n",
              "  text-align: center;\n",
              "}\n",
              "#T_f024e td {\n",
              "  text-align: center;\n",
              "}\n",
              "</style>\n",
              "<table id=\"T_f024e\" class=\"dataframe\">\n",
              "  <caption>Model Performance Comparison</caption>\n",
              "  <thead>\n",
              "    <tr>\n",
              "      <th class=\"blank level0\" >&nbsp;</th>\n",
              "      <th id=\"T_f024e_level0_col0\" class=\"col_heading level0 col0\" >Model</th>\n",
              "      <th id=\"T_f024e_level0_col1\" class=\"col_heading level0 col1\" >Accuracy (%)</th>\n",
              "      <th id=\"T_f024e_level0_col2\" class=\"col_heading level0 col2\" >Log Loss</th>\n",
              "    </tr>\n",
              "  </thead>\n",
              "  <tbody>\n",
              "    <tr>\n",
              "      <th id=\"T_f024e_level0_row0\" class=\"row_heading level0 row0\" >0</th>\n",
              "      <td id=\"T_f024e_row0_col0\" class=\"data row0 col0\" >Logistic Regression</td>\n",
              "      <td id=\"T_f024e_row0_col1\" class=\"data row0 col1\" >99.280000</td>\n",
              "      <td id=\"T_f024e_row0_col2\" class=\"data row0 col2\" >0.048100</td>\n",
              "    </tr>\n",
              "    <tr>\n",
              "      <th id=\"T_f024e_level0_row1\" class=\"row_heading level0 row1\" >1</th>\n",
              "      <td id=\"T_f024e_row1_col0\" class=\"data row1 col0\" >Random Forest</td>\n",
              "      <td id=\"T_f024e_row1_col1\" class=\"data row1 col1\" >100.000000</td>\n",
              "      <td id=\"T_f024e_row1_col2\" class=\"data row1 col2\" >0.068200</td>\n",
              "    </tr>\n",
              "    <tr>\n",
              "      <th id=\"T_f024e_level0_row2\" class=\"row_heading level0 row2\" >2</th>\n",
              "      <td id=\"T_f024e_row2_col0\" class=\"data row2 col0\" >SVM</td>\n",
              "      <td id=\"T_f024e_row2_col1\" class=\"data row2 col1\" >87.290000</td>\n",
              "      <td id=\"T_f024e_row2_col2\" class=\"data row2 col2\" >0.077800</td>\n",
              "    </tr>\n",
              "    <tr>\n",
              "      <th id=\"T_f024e_level0_row3\" class=\"row_heading level0 row3\" >3</th>\n",
              "      <td id=\"T_f024e_row3_col0\" class=\"data row3 col0\" >Gradient Boosting</td>\n",
              "      <td id=\"T_f024e_row3_col1\" class=\"data row3 col1\" >100.000000</td>\n",
              "      <td id=\"T_f024e_row3_col2\" class=\"data row3 col2\" >0.001300</td>\n",
              "    </tr>\n",
              "    <tr>\n",
              "      <th id=\"T_f024e_level0_row4\" class=\"row_heading level0 row4\" >4</th>\n",
              "      <td id=\"T_f024e_row4_col0\" class=\"data row4 col0\" >XGBoost</td>\n",
              "      <td id=\"T_f024e_row4_col1\" class=\"data row4 col1\" >99.840000</td>\n",
              "      <td id=\"T_f024e_row4_col2\" class=\"data row4 col2\" >0.010200</td>\n",
              "    </tr>\n",
              "    <tr>\n",
              "      <th id=\"T_f024e_level0_row5\" class=\"row_heading level0 row5\" >5</th>\n",
              "      <td id=\"T_f024e_row5_col0\" class=\"data row5 col0\" >Neural Network</td>\n",
              "      <td id=\"T_f024e_row5_col1\" class=\"data row5 col1\" >100.000000</td>\n",
              "      <td id=\"T_f024e_row5_col2\" class=\"data row5 col2\" >0.036900</td>\n",
              "    </tr>\n",
              "  </tbody>\n",
              "</table>\n"
            ]
          },
          "metadata": {}
        }
      ]
    }
  ]
}